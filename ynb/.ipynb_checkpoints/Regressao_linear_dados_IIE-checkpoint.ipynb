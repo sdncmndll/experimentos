{
 "cells": [
  {
   "cell_type": "markdown",
   "metadata": {},
   "source": [
    "O Conjunto de dados que serão analisados são extraidos no PDEN, Peinel de Desempenho Energético.<br>\n",
    "O Objetivo aqui é a realização de uma análise exploratória na busca de correlação entre as variáveis<<br>\n",
    "- IIE\n",
    "- Carga\n",
    "- FOMPP\n",
    "- IO2\n",
    "\n",
    "Queremos ter as equações para uso posterior no próprio painel"
   ]
  },
  {
   "cell_type": "code",
   "execution_count": 1,
   "metadata": {
    "ExecuteTime": {
     "end_time": "2022-03-26T01:44:13.811965Z",
     "start_time": "2022-03-26T01:44:08.598152Z"
    }
   },
   "outputs": [],
   "source": [
    "import numpy as np\n",
    "import pandas as pd\n",
    "import matplotlib.pyplot as plt\n",
    "from sklearn.cross_decomposition import CCA"
   ]
  },
  {
   "cell_type": "code",
   "execution_count": 2,
   "metadata": {
    "ExecuteTime": {
     "end_time": "2022-03-26T01:44:20.257158Z",
     "start_time": "2022-03-26T01:44:13.911700Z"
    }
   },
   "outputs": [],
   "source": [
    "df = pd.read_excel(r'C:\\Users\\asdy\\OneDrive - PETROBRAS\\Time Operação e Execução da Produção\\Planilhas\\python.xlsx', \\\n",
    "                   sheet_name='Query1')"
   ]
  },
  {
   "cell_type": "raw",
   "metadata": {
    "ExecuteTime": {
     "end_time": "2022-03-26T00:08:02.643792Z",
     "start_time": "2022-03-26T00:08:02.614869Z"
    }
   },
   "source": [
    "df.shape"
   ]
  },
  {
   "cell_type": "raw",
   "metadata": {
    "ExecuteTime": {
     "end_time": "2022-03-26T00:08:04.075203Z",
     "start_time": "2022-03-26T00:08:04.036386Z"
    }
   },
   "source": [
    "df.head()"
   ]
  },
  {
   "cell_type": "raw",
   "metadata": {
    "ExecuteTime": {
     "end_time": "2022-03-26T00:08:06.883234Z",
     "start_time": "2022-03-26T00:08:06.870268Z"
    }
   },
   "source": [
    "df.dtypes"
   ]
  },
  {
   "cell_type": "raw",
   "metadata": {
    "ExecuteTime": {
     "end_time": "2022-03-26T00:08:09.206041Z",
     "start_time": "2022-03-26T00:08:09.132225Z"
    }
   },
   "source": [
    "df.describe()"
   ]
  },
  {
   "cell_type": "code",
   "execution_count": 3,
   "metadata": {
    "ExecuteTime": {
     "end_time": "2022-03-26T01:44:28.541209Z",
     "start_time": "2022-03-26T01:44:28.524245Z"
    }
   },
   "outputs": [],
   "source": [
    "dfp=df.loc[(df['Plant']=='RECAP')] #p-plant"
   ]
  },
  {
   "cell_type": "code",
   "execution_count": 4,
   "metadata": {
    "ExecuteTime": {
     "end_time": "2022-03-26T01:44:29.501214Z",
     "start_time": "2022-03-26T01:44:29.469300Z"
    }
   },
   "outputs": [
    {
     "data": {
      "text/html": [
       "<div>\n",
       "<style scoped>\n",
       "    .dataframe tbody tr th:only-of-type {\n",
       "        vertical-align: middle;\n",
       "    }\n",
       "\n",
       "    .dataframe tbody tr th {\n",
       "        vertical-align: top;\n",
       "    }\n",
       "\n",
       "    .dataframe thead th {\n",
       "        text-align: right;\n",
       "    }\n",
       "</style>\n",
       "<table border=\"1\" class=\"dataframe\">\n",
       "  <thead>\n",
       "    <tr style=\"text-align: right;\">\n",
       "      <th></th>\n",
       "      <th>Plant</th>\n",
       "      <th>Process</th>\n",
       "      <th>Unit</th>\n",
       "      <th>DataBase</th>\n",
       "      <th>CARGA</th>\n",
       "      <th>IO2</th>\n",
       "      <th>FOMPP</th>\n",
       "      <th>IIE</th>\n",
       "    </tr>\n",
       "  </thead>\n",
       "  <tbody>\n",
       "    <tr>\n",
       "      <th>560</th>\n",
       "      <td>RECAP</td>\n",
       "      <td>GH2</td>\n",
       "      <td>U2311</td>\n",
       "      <td>2022-01-14</td>\n",
       "      <td>344419.886822</td>\n",
       "      <td>NaN</td>\n",
       "      <td>NaN</td>\n",
       "      <td>102.255698</td>\n",
       "    </tr>\n",
       "    <tr>\n",
       "      <th>561</th>\n",
       "      <td>RECAP</td>\n",
       "      <td>GH2</td>\n",
       "      <td>U2311</td>\n",
       "      <td>2022-01-15</td>\n",
       "      <td>351450.403842</td>\n",
       "      <td>NaN</td>\n",
       "      <td>NaN</td>\n",
       "      <td>101.517511</td>\n",
       "    </tr>\n",
       "    <tr>\n",
       "      <th>562</th>\n",
       "      <td>RECAP</td>\n",
       "      <td>GH2</td>\n",
       "      <td>U2311</td>\n",
       "      <td>2022-01-16</td>\n",
       "      <td>349838.017049</td>\n",
       "      <td>NaN</td>\n",
       "      <td>NaN</td>\n",
       "      <td>101.115775</td>\n",
       "    </tr>\n",
       "    <tr>\n",
       "      <th>563</th>\n",
       "      <td>RECAP</td>\n",
       "      <td>GH2</td>\n",
       "      <td>U2311</td>\n",
       "      <td>2022-01-17</td>\n",
       "      <td>349410.393744</td>\n",
       "      <td>NaN</td>\n",
       "      <td>NaN</td>\n",
       "      <td>101.458531</td>\n",
       "    </tr>\n",
       "    <tr>\n",
       "      <th>564</th>\n",
       "      <td>RECAP</td>\n",
       "      <td>GH2</td>\n",
       "      <td>U2311</td>\n",
       "      <td>2022-03-08</td>\n",
       "      <td>352402.584953</td>\n",
       "      <td>NaN</td>\n",
       "      <td>NaN</td>\n",
       "      <td>97.913430</td>\n",
       "    </tr>\n",
       "  </tbody>\n",
       "</table>\n",
       "</div>"
      ],
      "text/plain": [
       "     Plant Process   Unit   DataBase          CARGA  IO2  FOMPP         IIE\n",
       "560  RECAP     GH2  U2311 2022-01-14  344419.886822  NaN    NaN  102.255698\n",
       "561  RECAP     GH2  U2311 2022-01-15  351450.403842  NaN    NaN  101.517511\n",
       "562  RECAP     GH2  U2311 2022-01-16  349838.017049  NaN    NaN  101.115775\n",
       "563  RECAP     GH2  U2311 2022-01-17  349410.393744  NaN    NaN  101.458531\n",
       "564  RECAP     GH2  U2311 2022-03-08  352402.584953  NaN    NaN   97.913430"
      ]
     },
     "execution_count": 4,
     "metadata": {},
     "output_type": "execute_result"
    }
   ],
   "source": [
    "dfp.head()"
   ]
  },
  {
   "cell_type": "code",
   "execution_count": 5,
   "metadata": {
    "ExecuteTime": {
     "end_time": "2022-03-26T01:44:31.388353Z",
     "start_time": "2022-03-26T01:44:31.379358Z"
    }
   },
   "outputs": [],
   "source": [
    "dfpp=dfp.loc[(dfp['Process']=='DST')] #pp - plant process"
   ]
  },
  {
   "cell_type": "code",
   "execution_count": 6,
   "metadata": {
    "ExecuteTime": {
     "end_time": "2022-03-26T01:44:32.164199Z",
     "start_time": "2022-03-26T01:44:32.131287Z"
    }
   },
   "outputs": [
    {
     "data": {
      "text/html": [
       "<div>\n",
       "<style scoped>\n",
       "    .dataframe tbody tr th:only-of-type {\n",
       "        vertical-align: middle;\n",
       "    }\n",
       "\n",
       "    .dataframe tbody tr th {\n",
       "        vertical-align: top;\n",
       "    }\n",
       "\n",
       "    .dataframe thead th {\n",
       "        text-align: right;\n",
       "    }\n",
       "</style>\n",
       "<table border=\"1\" class=\"dataframe\">\n",
       "  <thead>\n",
       "    <tr style=\"text-align: right;\">\n",
       "      <th></th>\n",
       "      <th>Plant</th>\n",
       "      <th>Process</th>\n",
       "      <th>Unit</th>\n",
       "      <th>DataBase</th>\n",
       "      <th>CARGA</th>\n",
       "      <th>IO2</th>\n",
       "      <th>FOMPP</th>\n",
       "      <th>IIE</th>\n",
       "    </tr>\n",
       "  </thead>\n",
       "  <tbody>\n",
       "    <tr>\n",
       "      <th>6679</th>\n",
       "      <td>RECAP</td>\n",
       "      <td>DST</td>\n",
       "      <td>U500</td>\n",
       "      <td>2022-03-08</td>\n",
       "      <td>9300.151200</td>\n",
       "      <td>1.941855</td>\n",
       "      <td>100.0</td>\n",
       "      <td>102.297747</td>\n",
       "    </tr>\n",
       "    <tr>\n",
       "      <th>6680</th>\n",
       "      <td>RECAP</td>\n",
       "      <td>DST</td>\n",
       "      <td>U500</td>\n",
       "      <td>2022-03-09</td>\n",
       "      <td>8928.097470</td>\n",
       "      <td>1.799451</td>\n",
       "      <td>100.0</td>\n",
       "      <td>104.277509</td>\n",
       "    </tr>\n",
       "    <tr>\n",
       "      <th>6681</th>\n",
       "      <td>RECAP</td>\n",
       "      <td>DST</td>\n",
       "      <td>U500</td>\n",
       "      <td>2022-03-10</td>\n",
       "      <td>9233.421215</td>\n",
       "      <td>1.789455</td>\n",
       "      <td>100.0</td>\n",
       "      <td>101.921716</td>\n",
       "    </tr>\n",
       "    <tr>\n",
       "      <th>6682</th>\n",
       "      <td>RECAP</td>\n",
       "      <td>DST</td>\n",
       "      <td>U500</td>\n",
       "      <td>2022-03-11</td>\n",
       "      <td>9300.039044</td>\n",
       "      <td>1.771716</td>\n",
       "      <td>100.0</td>\n",
       "      <td>101.279949</td>\n",
       "    </tr>\n",
       "    <tr>\n",
       "      <th>6683</th>\n",
       "      <td>RECAP</td>\n",
       "      <td>DST</td>\n",
       "      <td>U500</td>\n",
       "      <td>2022-03-12</td>\n",
       "      <td>9299.977312</td>\n",
       "      <td>1.980498</td>\n",
       "      <td>100.0</td>\n",
       "      <td>100.677824</td>\n",
       "    </tr>\n",
       "  </tbody>\n",
       "</table>\n",
       "</div>"
      ],
      "text/plain": [
       "      Plant Process  Unit   DataBase        CARGA       IO2  FOMPP         IIE\n",
       "6679  RECAP     DST  U500 2022-03-08  9300.151200  1.941855  100.0  102.297747\n",
       "6680  RECAP     DST  U500 2022-03-09  8928.097470  1.799451  100.0  104.277509\n",
       "6681  RECAP     DST  U500 2022-03-10  9233.421215  1.789455  100.0  101.921716\n",
       "6682  RECAP     DST  U500 2022-03-11  9300.039044  1.771716  100.0  101.279949\n",
       "6683  RECAP     DST  U500 2022-03-12  9299.977312  1.980498  100.0  100.677824"
      ]
     },
     "execution_count": 6,
     "metadata": {},
     "output_type": "execute_result"
    }
   ],
   "source": [
    "dfpp.head()"
   ]
  },
  {
   "cell_type": "code",
   "execution_count": 7,
   "metadata": {
    "ExecuteTime": {
     "end_time": "2022-03-26T01:44:34.152871Z",
     "start_time": "2022-03-26T01:44:34.139903Z"
    }
   },
   "outputs": [],
   "source": [
    "dfppu=dfpp.loc[(dfpp['Unit']=='U500')] #ppu - plant, process, unit"
   ]
  },
  {
   "cell_type": "code",
   "execution_count": 8,
   "metadata": {
    "ExecuteTime": {
     "end_time": "2022-03-26T01:44:34.777316Z",
     "start_time": "2022-03-26T01:44:34.756380Z"
    }
   },
   "outputs": [
    {
     "data": {
      "text/html": [
       "<div>\n",
       "<style scoped>\n",
       "    .dataframe tbody tr th:only-of-type {\n",
       "        vertical-align: middle;\n",
       "    }\n",
       "\n",
       "    .dataframe tbody tr th {\n",
       "        vertical-align: top;\n",
       "    }\n",
       "\n",
       "    .dataframe thead th {\n",
       "        text-align: right;\n",
       "    }\n",
       "</style>\n",
       "<table border=\"1\" class=\"dataframe\">\n",
       "  <thead>\n",
       "    <tr style=\"text-align: right;\">\n",
       "      <th></th>\n",
       "      <th>Plant</th>\n",
       "      <th>Process</th>\n",
       "      <th>Unit</th>\n",
       "      <th>DataBase</th>\n",
       "      <th>CARGA</th>\n",
       "      <th>IO2</th>\n",
       "      <th>FOMPP</th>\n",
       "      <th>IIE</th>\n",
       "    </tr>\n",
       "  </thead>\n",
       "  <tbody>\n",
       "    <tr>\n",
       "      <th>6679</th>\n",
       "      <td>RECAP</td>\n",
       "      <td>DST</td>\n",
       "      <td>U500</td>\n",
       "      <td>2022-03-08</td>\n",
       "      <td>9300.151200</td>\n",
       "      <td>1.941855</td>\n",
       "      <td>100.0</td>\n",
       "      <td>102.297747</td>\n",
       "    </tr>\n",
       "    <tr>\n",
       "      <th>6680</th>\n",
       "      <td>RECAP</td>\n",
       "      <td>DST</td>\n",
       "      <td>U500</td>\n",
       "      <td>2022-03-09</td>\n",
       "      <td>8928.097470</td>\n",
       "      <td>1.799451</td>\n",
       "      <td>100.0</td>\n",
       "      <td>104.277509</td>\n",
       "    </tr>\n",
       "    <tr>\n",
       "      <th>6681</th>\n",
       "      <td>RECAP</td>\n",
       "      <td>DST</td>\n",
       "      <td>U500</td>\n",
       "      <td>2022-03-10</td>\n",
       "      <td>9233.421215</td>\n",
       "      <td>1.789455</td>\n",
       "      <td>100.0</td>\n",
       "      <td>101.921716</td>\n",
       "    </tr>\n",
       "    <tr>\n",
       "      <th>6682</th>\n",
       "      <td>RECAP</td>\n",
       "      <td>DST</td>\n",
       "      <td>U500</td>\n",
       "      <td>2022-03-11</td>\n",
       "      <td>9300.039044</td>\n",
       "      <td>1.771716</td>\n",
       "      <td>100.0</td>\n",
       "      <td>101.279949</td>\n",
       "    </tr>\n",
       "    <tr>\n",
       "      <th>6683</th>\n",
       "      <td>RECAP</td>\n",
       "      <td>DST</td>\n",
       "      <td>U500</td>\n",
       "      <td>2022-03-12</td>\n",
       "      <td>9299.977312</td>\n",
       "      <td>1.980498</td>\n",
       "      <td>100.0</td>\n",
       "      <td>100.677824</td>\n",
       "    </tr>\n",
       "  </tbody>\n",
       "</table>\n",
       "</div>"
      ],
      "text/plain": [
       "      Plant Process  Unit   DataBase        CARGA       IO2  FOMPP         IIE\n",
       "6679  RECAP     DST  U500 2022-03-08  9300.151200  1.941855  100.0  102.297747\n",
       "6680  RECAP     DST  U500 2022-03-09  8928.097470  1.799451  100.0  104.277509\n",
       "6681  RECAP     DST  U500 2022-03-10  9233.421215  1.789455  100.0  101.921716\n",
       "6682  RECAP     DST  U500 2022-03-11  9300.039044  1.771716  100.0  101.279949\n",
       "6683  RECAP     DST  U500 2022-03-12  9299.977312  1.980498  100.0  100.677824"
      ]
     },
     "execution_count": 8,
     "metadata": {},
     "output_type": "execute_result"
    }
   ],
   "source": [
    "dfppu.head()"
   ]
  },
  {
   "cell_type": "code",
   "execution_count": 17,
   "metadata": {
    "ExecuteTime": {
     "end_time": "2022-03-26T01:46:07.159561Z",
     "start_time": "2022-03-26T01:46:07.140612Z"
    }
   },
   "outputs": [],
   "source": [
    "dfa=dfppu[['DataBase','IIE','CARGA','IO2','FOMPP']]"
   ]
  },
  {
   "cell_type": "code",
   "execution_count": 18,
   "metadata": {
    "ExecuteTime": {
     "end_time": "2022-03-26T01:46:08.118997Z",
     "start_time": "2022-03-26T01:46:08.085088Z"
    }
   },
   "outputs": [
    {
     "data": {
      "text/html": [
       "<div>\n",
       "<style scoped>\n",
       "    .dataframe tbody tr th:only-of-type {\n",
       "        vertical-align: middle;\n",
       "    }\n",
       "\n",
       "    .dataframe tbody tr th {\n",
       "        vertical-align: top;\n",
       "    }\n",
       "\n",
       "    .dataframe thead th {\n",
       "        text-align: right;\n",
       "    }\n",
       "</style>\n",
       "<table border=\"1\" class=\"dataframe\">\n",
       "  <thead>\n",
       "    <tr style=\"text-align: right;\">\n",
       "      <th></th>\n",
       "      <th>DataBase</th>\n",
       "      <th>IIE</th>\n",
       "      <th>CARGA</th>\n",
       "      <th>IO2</th>\n",
       "      <th>FOMPP</th>\n",
       "    </tr>\n",
       "  </thead>\n",
       "  <tbody>\n",
       "    <tr>\n",
       "      <th>6679</th>\n",
       "      <td>2022-03-08</td>\n",
       "      <td>102.297747</td>\n",
       "      <td>9300.151200</td>\n",
       "      <td>1.941855</td>\n",
       "      <td>100.000000</td>\n",
       "    </tr>\n",
       "    <tr>\n",
       "      <th>6680</th>\n",
       "      <td>2022-03-09</td>\n",
       "      <td>104.277509</td>\n",
       "      <td>8928.097470</td>\n",
       "      <td>1.799451</td>\n",
       "      <td>100.000000</td>\n",
       "    </tr>\n",
       "    <tr>\n",
       "      <th>6681</th>\n",
       "      <td>2022-03-10</td>\n",
       "      <td>101.921716</td>\n",
       "      <td>9233.421215</td>\n",
       "      <td>1.789455</td>\n",
       "      <td>100.000000</td>\n",
       "    </tr>\n",
       "    <tr>\n",
       "      <th>6682</th>\n",
       "      <td>2022-03-11</td>\n",
       "      <td>101.279949</td>\n",
       "      <td>9300.039044</td>\n",
       "      <td>1.771716</td>\n",
       "      <td>100.000000</td>\n",
       "    </tr>\n",
       "    <tr>\n",
       "      <th>6683</th>\n",
       "      <td>2022-03-12</td>\n",
       "      <td>100.677824</td>\n",
       "      <td>9299.977312</td>\n",
       "      <td>1.980498</td>\n",
       "      <td>100.000000</td>\n",
       "    </tr>\n",
       "    <tr>\n",
       "      <th>...</th>\n",
       "      <td>...</td>\n",
       "      <td>...</td>\n",
       "      <td>...</td>\n",
       "      <td>...</td>\n",
       "      <td>...</td>\n",
       "    </tr>\n",
       "    <tr>\n",
       "      <th>55607</th>\n",
       "      <td>2021-09-11</td>\n",
       "      <td>103.211944</td>\n",
       "      <td>9440.196165</td>\n",
       "      <td>NaN</td>\n",
       "      <td>NaN</td>\n",
       "    </tr>\n",
       "    <tr>\n",
       "      <th>60587</th>\n",
       "      <td>2021-06-30</td>\n",
       "      <td>NaN</td>\n",
       "      <td>8046.981714</td>\n",
       "      <td>NaN</td>\n",
       "      <td>NaN</td>\n",
       "    </tr>\n",
       "    <tr>\n",
       "      <th>62050</th>\n",
       "      <td>2021-09-16</td>\n",
       "      <td>104.215632</td>\n",
       "      <td>9019.920076</td>\n",
       "      <td>NaN</td>\n",
       "      <td>48.067516</td>\n",
       "    </tr>\n",
       "    <tr>\n",
       "      <th>62491</th>\n",
       "      <td>2021-01-06</td>\n",
       "      <td>NaN</td>\n",
       "      <td>6899.294390</td>\n",
       "      <td>NaN</td>\n",
       "      <td>NaN</td>\n",
       "    </tr>\n",
       "    <tr>\n",
       "      <th>62614</th>\n",
       "      <td>2021-04-14</td>\n",
       "      <td>NaN</td>\n",
       "      <td>7771.072633</td>\n",
       "      <td>NaN</td>\n",
       "      <td>NaN</td>\n",
       "    </tr>\n",
       "  </tbody>\n",
       "</table>\n",
       "<p>448 rows × 5 columns</p>\n",
       "</div>"
      ],
      "text/plain": [
       "        DataBase         IIE        CARGA       IO2       FOMPP\n",
       "6679  2022-03-08  102.297747  9300.151200  1.941855  100.000000\n",
       "6680  2022-03-09  104.277509  8928.097470  1.799451  100.000000\n",
       "6681  2022-03-10  101.921716  9233.421215  1.789455  100.000000\n",
       "6682  2022-03-11  101.279949  9300.039044  1.771716  100.000000\n",
       "6683  2022-03-12  100.677824  9299.977312  1.980498  100.000000\n",
       "...          ...         ...          ...       ...         ...\n",
       "55607 2021-09-11  103.211944  9440.196165       NaN         NaN\n",
       "60587 2021-06-30         NaN  8046.981714       NaN         NaN\n",
       "62050 2021-09-16  104.215632  9019.920076       NaN   48.067516\n",
       "62491 2021-01-06         NaN  6899.294390       NaN         NaN\n",
       "62614 2021-04-14         NaN  7771.072633       NaN         NaN\n",
       "\n",
       "[448 rows x 5 columns]"
      ]
     },
     "execution_count": 18,
     "metadata": {},
     "output_type": "execute_result"
    }
   ],
   "source": [
    "dfa"
   ]
  },
  {
   "cell_type": "code",
   "execution_count": 11,
   "metadata": {
    "ExecuteTime": {
     "end_time": "2022-03-26T01:44:43.865225Z",
     "start_time": "2022-03-26T01:44:41.196034Z"
    }
   },
   "outputs": [
    {
     "data": {
      "text/plain": [
       "<seaborn.axisgrid.PairGrid at 0x2b0d9c32d30>"
      ]
     },
     "execution_count": 11,
     "metadata": {},
     "output_type": "execute_result"
    },
    {
     "data": {
      "image/png": "[encoded data removed]",
      "text/plain": [
       "<Figure size 720x720 with 14 Axes>"
      ]
     },
     "metadata": {
      "needs_background": "light"
     },
     "output_type": "display_data"
    }
   ],
   "source": [
    "import seaborn as sns\n",
    "sns.pairplot(dfa,corner=True)"
   ]
  },
  {
   "cell_type": "code",
   "execution_count": null,
   "metadata": {
    "ExecuteTime": {
     "end_time": "2022-03-26T01:29:09.384752Z",
     "start_time": "2022-03-26T01:29:09.032121Z"
    }
   },
   "outputs": [],
   "source": [
    "corr=dfa.corr()\n",
    "ax=sns.heatmap(\n",
    "    corr,\n",
    "    vmin=-1,vmax=1, center =0,\n",
    "    cmap=sns.diverging_palette(20,220,n=200),\n",
    "    square=True\n",
    ")\n",
    "ax.set_xticklabels(\n",
    "    ax.get_xticklabels(),\n",
    "    rotation=45,\n",
    "    horizontalalignment='right'\n",
    ");"
   ]
  },
  {
   "cell_type": "code",
   "execution_count": null,
   "metadata": {
    "ExecuteTime": {
     "end_time": "2022-03-26T00:08:27.381055Z",
     "start_time": "2022-03-26T00:08:27.365099Z"
    }
   },
   "outputs": [],
   "source": [
    "dfa.shape"
   ]
  },
  {
   "cell_type": "code",
   "execution_count": null,
   "metadata": {
    "ExecuteTime": {
     "end_time": "2022-03-26T00:08:28.684221Z",
     "start_time": "2022-03-26T00:08:28.660284Z"
    }
   },
   "outputs": [],
   "source": [
    "corr=dfa.corr() # coeficiente de pearson\n",
    "corr"
   ]
  },
  {
   "cell_type": "raw",
   "metadata": {
    "ExecuteTime": {
     "end_time": "2022-03-25T18:03:16.671206Z",
     "start_time": "2022-03-25T18:03:16.461107Z"
    }
   },
   "source": [
    "ax=sns.heatmap(\n",
    "    corr,\n",
    "    vmin=-1,vmax=1, center =0,\n",
    "    cmap=sns.diverging_palette(20,220,n=200),\n",
    "    square=True\n",
    ")\n",
    "ax.set_xticklabels(\n",
    "    ax.get_xticklabels(),\n",
    "    rotation=45,\n",
    "    horizontalalignment='right'\n",
    ");"
   ]
  },
  {
   "cell_type": "code",
   "execution_count": null,
   "metadata": {
    "ExecuteTime": {
     "end_time": "2022-03-26T00:08:32.406091Z",
     "start_time": "2022-03-26T00:08:32.396116Z"
    }
   },
   "outputs": [],
   "source": [
    "#sns.heatmap(corr, annot=True)"
   ]
  },
  {
   "cell_type": "code",
   "execution_count": null,
   "metadata": {
    "ExecuteTime": {
     "end_time": "2022-03-26T00:08:35.181188Z",
     "start_time": "2022-03-26T00:08:34.980578Z"
    }
   },
   "outputs": [],
   "source": [
    "sns.heatmap(corr, annot=True, vmin=-1, vmax=1, cmap='coolwarm')"
   ]
  },
  {
   "cell_type": "code",
   "execution_count": null,
   "metadata": {
    "ExecuteTime": {
     "end_time": "2022-03-26T00:08:35.830163Z",
     "start_time": "2022-03-26T00:08:35.813218Z"
    }
   },
   "outputs": [],
   "source": [
    "mask = np.triu(corr)"
   ]
  },
  {
   "cell_type": "code",
   "execution_count": null,
   "metadata": {
    "ExecuteTime": {
     "end_time": "2022-03-26T00:08:37.673089Z",
     "start_time": "2022-03-26T00:08:37.662083Z"
    }
   },
   "outputs": [],
   "source": [
    "mask"
   ]
  },
  {
   "cell_type": "code",
   "execution_count": null,
   "metadata": {
    "ExecuteTime": {
     "end_time": "2022-03-26T00:08:47.810997Z",
     "start_time": "2022-03-26T00:08:47.620952Z"
    }
   },
   "outputs": [],
   "source": [
    "sns.heatmap(corr, annot=True, vmin=-1, vmax=1, cmap='coolwarm', mask=mask)"
   ]
  },
  {
   "cell_type": "code",
   "execution_count": null,
   "metadata": {
    "ExecuteTime": {
     "end_time": "2022-03-26T00:08:48.814623Z",
     "start_time": "2022-03-26T00:08:48.808637Z"
    }
   },
   "outputs": [],
   "source": [
    "mask = np.tril(corr)"
   ]
  },
  {
   "cell_type": "code",
   "execution_count": null,
   "metadata": {
    "ExecuteTime": {
     "end_time": "2022-03-26T00:08:51.235025Z",
     "start_time": "2022-03-26T00:08:51.052599Z"
    }
   },
   "outputs": [],
   "source": [
    "sns.heatmap(corr, annot=True, vmin=-1, vmax=1, cmap='coolwarm', mask=mask)"
   ]
  },
  {
   "cell_type": "code",
   "execution_count": null,
   "metadata": {
    "ExecuteTime": {
     "end_time": "2022-03-26T00:48:34.794021Z",
     "start_time": "2022-03-26T00:48:34.778097Z"
    }
   },
   "outputs": [],
   "source": [
    "dfa.head(100)"
   ]
  },
  {
   "cell_type": "code",
   "execution_count": null,
   "metadata": {
    "ExecuteTime": {
     "end_time": "2022-03-26T00:48:10.327605Z",
     "start_time": "2022-03-26T00:48:10.314640Z"
    }
   },
   "outputs": [],
   "source": [
    "dfa.dtypes"
   ]
  },
  {
   "cell_type": "code",
   "execution_count": null,
   "metadata": {
    "ExecuteTime": {
     "end_time": "2022-03-26T00:53:28.861218Z",
     "start_time": "2022-03-26T00:53:28.615361Z"
    }
   },
   "outputs": [],
   "source": [
    "import matplotlib.pyplot as plt\n",
    "import plotly.graph_objs as go\n",
    "import plotly.offline as py\n",
    "import plotly\n",
    "plotly.offline.init_notebook_mode()\n",
    "import datetime"
   ]
  },
  {
   "cell_type": "raw",
   "metadata": {
    "ExecuteTime": {
     "end_time": "2022-03-26T00:55:28.094307Z",
     "start_time": "2022-03-26T00:55:27.992588Z"
    }
   },
   "source": [
    "\n",
    "x1=dfa.DataBase\n",
    "y1=dfa.IIE\n",
    "data=[go.Scatter(x=x1,y=y1)]\n",
    "layout =go.Layout(\n",
    "    xaxis=dict(\n",
    "        range=['2022-02-01','2022-03-23'],\n",
    "    ),\n",
    "    yaxis=dict(\n",
    "        range=[min(x1),max(y1)],\n",
    "        title='carga'\n",
    "    ))\n",
    "fig=go.Figure(data=data,layout=layout)\n",
    "py.iplot(fig)"
   ]
  },
  {
   "cell_type": "raw",
   "metadata": {
    "ExecuteTime": {
     "end_time": "2022-03-26T01:08:21.411147Z",
     "start_time": "2022-03-26T01:08:21.332403Z"
    }
   },
   "source": [
    "#matplotlib notebook\n",
    "import matplotlib.dates as mdates\n",
    "import datetime as dt\n",
    "x=dfa['DataBase']\n",
    "y=dfa['CARGA']\n",
    "plt.plot_date(x,y,color='r',fmt='r-')\n",
    "plt.xticks(rotation=30)\n",
    "plt.show()"
   ]
  },
  {
   "cell_type": "raw",
   "metadata": {
    "ExecuteTime": {
     "end_time": "2022-03-26T01:10:58.426553Z",
     "start_time": "2022-03-26T01:10:58.385660Z"
    }
   },
   "source": [
    "x=dfa.CARGA[:90] #noventa dias\n",
    "y=dfa.IIE[:90]\n",
    "plt.scatter(x,y,color='b')\n",
    "plt.axis([min(x),max(x),min(y),max(y)])\n",
    "plt.autoscale('False')\n",
    "plt.show()"
   ]
  },
  {
   "cell_type": "code",
   "execution_count": 12,
   "metadata": {
    "ExecuteTime": {
     "end_time": "2022-03-26T01:44:56.791613Z",
     "start_time": "2022-03-26T01:44:56.773660Z"
    }
   },
   "outputs": [],
   "source": [
    "dfa=dfa.dropna()"
   ]
  },
  {
   "cell_type": "code",
   "execution_count": 13,
   "metadata": {
    "ExecuteTime": {
     "end_time": "2022-03-26T01:44:57.486141Z",
     "start_time": "2022-03-26T01:44:57.477165Z"
    }
   },
   "outputs": [],
   "source": [
    "y=dfa.iloc[:,0].values # pegar todos os valores da coluna 0"
   ]
  },
  {
   "cell_type": "code",
   "execution_count": 14,
   "metadata": {
    "ExecuteTime": {
     "end_time": "2022-03-26T01:44:58.039130Z",
     "start_time": "2022-03-26T01:44:58.020176Z"
    }
   },
   "outputs": [
    {
     "data": {
      "text/plain": [
       "(90,)"
      ]
     },
     "execution_count": 14,
     "metadata": {},
     "output_type": "execute_result"
    }
   ],
   "source": [
    "y.shape"
   ]
  },
  {
   "cell_type": "code",
   "execution_count": 15,
   "metadata": {
    "ExecuteTime": {
     "end_time": "2022-03-26T01:44:59.322976Z",
     "start_time": "2022-03-26T01:44:59.315995Z"
    }
   },
   "outputs": [
    {
     "data": {
      "text/plain": [
       "(90,)"
      ]
     },
     "execution_count": 15,
     "metadata": {},
     "output_type": "execute_result"
    }
   ],
   "source": [
    "y.reshape(-1,1)\n",
    "y.shape"
   ]
  },
  {
   "cell_type": "code",
   "execution_count": null,
   "metadata": {
    "ExecuteTime": {
     "end_time": "2022-03-26T00:22:57.663720Z",
     "start_time": "2022-03-26T00:22:57.646765Z"
    }
   },
   "outputs": [],
   "source": [
    "X=dfa.iloc[:,1].values #pegando todos os valores da coluna 1"
   ]
  },
  {
   "cell_type": "code",
   "execution_count": null,
   "metadata": {
    "ExecuteTime": {
     "end_time": "2022-03-26T00:22:58.558989Z",
     "start_time": "2022-03-26T00:22:58.543032Z"
    }
   },
   "outputs": [],
   "source": [
    "X.shape"
   ]
  },
  {
   "cell_type": "code",
   "execution_count": null,
   "metadata": {
    "ExecuteTime": {
     "end_time": "2022-03-26T00:22:59.441434Z",
     "start_time": "2022-03-26T00:22:59.422484Z"
    }
   },
   "outputs": [],
   "source": [
    "X.reshape(-1,1)\n",
    "X.shape"
   ]
  },
  {
   "cell_type": "code",
   "execution_count": null,
   "metadata": {
    "ExecuteTime": {
     "end_time": "2022-03-26T00:23:07.719776Z",
     "start_time": "2022-03-26T00:23:07.702820Z"
    }
   },
   "outputs": [],
   "source": [
    "correlacao=np.corrcoef(X,y)"
   ]
  },
  {
   "cell_type": "code",
   "execution_count": 20,
   "metadata": {
    "ExecuteTime": {
     "end_time": "2022-03-26T01:46:24.854900Z",
     "start_time": "2022-03-26T01:46:24.364837Z"
    }
   },
   "outputs": [],
   "source": [
    "from sklearn.linear_model import LinearRegression"
   ]
  },
  {
   "cell_type": "code",
   "execution_count": null,
   "metadata": {
    "ExecuteTime": {
     "end_time": "2022-03-26T00:23:10.441107Z",
     "start_time": "2022-03-26T00:23:10.423121Z"
    }
   },
   "outputs": [],
   "source": [
    "regressor =LinearRegression()"
   ]
  },
  {
   "cell_type": "code",
   "execution_count": null,
   "metadata": {
    "ExecuteTime": {
     "end_time": "2022-03-26T00:23:12.507180Z",
     "start_time": "2022-03-26T00:23:12.470767Z"
    }
   },
   "outputs": [],
   "source": [
    "regressor.fit(X,y)"
   ]
  },
  {
   "cell_type": "code",
   "execution_count": null,
   "metadata": {
    "ExecuteTime": {
     "end_time": "2022-03-26T00:22:19.303631Z",
     "start_time": "2022-03-26T00:22:19.277713Z"
    }
   },
   "outputs": [],
   "source": [
    "regressor.coef_"
   ]
  },
  {
   "cell_type": "code",
   "execution_count": null,
   "metadata": {
    "ExecuteTime": {
     "end_time": "2022-03-26T00:22:20.373931Z",
     "start_time": "2022-03-26T00:22:20.358970Z"
    }
   },
   "outputs": [],
   "source": [
    "regressor.intercept_"
   ]
  },
  {
   "cell_type": "code",
   "execution_count": null,
   "metadata": {
    "ExecuteTime": {
     "end_time": "2022-03-25T23:42:35.129597Z",
     "start_time": "2022-03-25T23:42:34.951958Z"
    }
   },
   "outputs": [],
   "source": [
    "plt.scatter(X,y)\n",
    "plt.plot(X,regressor.predict(X),color='red')\n",
    "plt.title ('Regressão Linear simples IIE vs Carga')\n",
    "plt.xlabel('IIE')\n",
    "plt.ylabel('Carga')"
   ]
  },
  {
   "cell_type": "code",
   "execution_count": null,
   "metadata": {
    "ExecuteTime": {
     "end_time": "2022-03-25T23:42:45.439960Z",
     "start_time": "2022-03-25T23:42:45.417023Z"
    }
   },
   "outputs": [],
   "source": [
    "previsao1=regressor.predict(5000)"
   ]
  },
  {
   "cell_type": "code",
   "execution_count": null,
   "metadata": {
    "ExecuteTime": {
     "end_time": "2022-03-26T00:16:44.690669Z",
     "start_time": "2022-03-26T00:16:44.676709Z"
    }
   },
   "outputs": [],
   "source": [
    "a = np.arange(8).reshape(-1,1)\n"
   ]
  },
  {
   "cell_type": "code",
   "execution_count": null,
   "metadata": {
    "ExecuteTime": {
     "end_time": "2022-03-26T00:16:45.245208Z",
     "start_time": "2022-03-26T00:16:45.235235Z"
    }
   },
   "outputs": [],
   "source": [
    "a"
   ]
  },
  {
   "cell_type": "code",
   "execution_count": 21,
   "metadata": {
    "ExecuteTime": {
     "end_time": "2022-03-26T01:46:28.070006Z",
     "start_time": "2022-03-26T01:46:28.053050Z"
    }
   },
   "outputs": [],
   "source": [
    "lm =LinearRegression()"
   ]
  },
  {
   "cell_type": "code",
   "execution_count": 22,
   "metadata": {
    "ExecuteTime": {
     "end_time": "2022-03-26T01:46:29.266778Z",
     "start_time": "2022-03-26T01:46:29.244837Z"
    }
   },
   "outputs": [],
   "source": [
    "dfa=dfa.dropna()\n",
    "X=dfa['CARGA'].values.reshape(-1,1)\n",
    "y=dfa['IIE'].values.reshape(-1,1)"
   ]
  },
  {
   "cell_type": "code",
   "execution_count": 23,
   "metadata": {
    "ExecuteTime": {
     "end_time": "2022-03-26T01:46:30.424638Z",
     "start_time": "2022-03-26T01:46:30.404656Z"
    }
   },
   "outputs": [
    {
     "data": {
      "text/plain": [
       "LinearRegression()"
      ]
     },
     "execution_count": 23,
     "metadata": {},
     "output_type": "execute_result"
    }
   ],
   "source": [
    "lm.fit(X,y)"
   ]
  },
  {
   "cell_type": "code",
   "execution_count": null,
   "metadata": {
    "ExecuteTime": {
     "end_time": "2022-03-26T01:42:03.400398Z",
     "start_time": "2022-03-26T01:42:03.387432Z"
    }
   },
   "outputs": [],
   "source": []
  },
  {
   "cell_type": "code",
   "execution_count": 24,
   "metadata": {
    "ExecuteTime": {
     "end_time": "2022-03-26T01:46:32.689863Z",
     "start_time": "2022-03-26T01:46:32.676891Z"
    }
   },
   "outputs": [
    {
     "data": {
      "text/plain": [
       "array([[0.00358223]])"
      ]
     },
     "execution_count": 24,
     "metadata": {},
     "output_type": "execute_result"
    }
   ],
   "source": [
    "lm.coef_"
   ]
  },
  {
   "cell_type": "code",
   "execution_count": 25,
   "metadata": {
    "ExecuteTime": {
     "end_time": "2022-03-26T01:46:34.151899Z",
     "start_time": "2022-03-26T01:46:34.132916Z"
    }
   },
   "outputs": [
    {
     "data": {
      "text/plain": [
       "array([77.75031732])"
      ]
     },
     "execution_count": 25,
     "metadata": {},
     "output_type": "execute_result"
    }
   ],
   "source": [
    "lm.intercept_"
   ]
  },
  {
   "cell_type": "code",
   "execution_count": 26,
   "metadata": {
    "ExecuteTime": {
     "end_time": "2022-03-26T01:46:35.682724Z",
     "start_time": "2022-03-26T01:46:35.532737Z"
    }
   },
   "outputs": [
    {
     "data": {
      "image/png": "[encoded data removed]",
      "text/plain": [
       "<Figure size 432x288 with 1 Axes>"
      ]
     },
     "metadata": {
      "needs_background": "light"
     },
     "output_type": "display_data"
    }
   ],
   "source": [
    "plt.scatter(dfa['CARGA'],dfa['IIE'])\n",
    "plt.plot(X,lm.predict(X),'r')\n",
    "plt.show()"
   ]
  },
  {
   "cell_type": "code",
   "execution_count": null,
   "metadata": {},
   "outputs": [],
   "source": []
  }
 ],
 "metadata": {
  "kernelspec": {
   "display_name": "Python 3",
   "language": "python",
   "name": "python3"
  },
  "language_info": {
   "codemirror_mode": {
    "name": "ipython",
    "version": 3
   },
   "file_extension": ".py",
   "mimetype": "text/x-python",
   "name": "python",
   "nbconvert_exporter": "python",
   "pygments_lexer": "ipython3",
   "version": "3.7.4"
  },
  "toc": {
   "base_numbering": 1,
   "nav_menu": {},
   "number_sections": true,
   "sideBar": true,
   "skip_h1_title": false,
   "title_cell": "Table of Contents",
   "title_sidebar": "Contents",
   "toc_cell": false,
   "toc_position": {},
   "toc_section_display": true,
   "toc_window_display": false
  },
  "varInspector": {
   "cols": {
    "lenName": 16,
    "lenType": 16,
    "lenVar": 40
   },
   "kernels_config": {
    "python": {
     "delete_cmd_postfix": "",
     "delete_cmd_prefix": "del ",
     "library": "var_list.py",
     "varRefreshCmd": "print(var_dic_list())"
    },
    "r": {
     "delete_cmd_postfix": ") ",
     "delete_cmd_prefix": "rm(",
     "library": "var_list.r",
     "varRefreshCmd": "cat(var_dic_list()) "
    }
   },
   "types_to_exclude": [
    "module",
    "function",
    "builtin_function_or_method",
    "instance",
    "_Feature"
   ],
   "window_display": false
  }
 },
 "nbformat": 4,
 "nbformat_minor": 4
}
