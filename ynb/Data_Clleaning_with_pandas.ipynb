{
 "cells": [
  {
   "cell_type": "markdown",
   "metadata": {},
   "source": [
    "# Pilula - Tratando Outliers IIE\n",
    "### Objetivo da Pílula\n",
    "\n",
    "* Ler uma base de dadosplanilha IIE\n",
    "* Identificar outliers\n",
    "* Remover outliers\n",
    "\n",
    "### Material de Apoio\n",
    "\n",
    "\n",
    "[Data Cleaning Using Pandas](https://www.analyticsvidhya.com/blog/2021/06/data-cleaning-using-pandas/) |\n",
    "[pandas.DataFrame.fillna](https://pandas.pydata.org/pandas-docs/stable/reference/api/pandas.DataFrame.fillna.html) |\n",
    "[HOW TO USE FILLNA TO REPLACE MISSING VALUES](https://www.sharpsightlabs.com/blog/pandas-fillna/) |\n",
    "[dataframe-replace-nan-values-with-average-of-columns](https://stackoverflow.com/questions/18689823/pandas-dataframe-replace-nan-values-with-average-of-columns) |\n",
    "[pandas.DataFrame.mean](https://pandas.pydata.org/pandas-docs/stable/reference/api/pandas.DataFrame.mean.html)"
   ]
  },
  {
   "cell_type": "code",
   "execution_count": 1,
   "metadata": {
    "ExecuteTime": {
     "end_time": "2022-03-26T16:10:32.609114Z",
     "start_time": "2022-03-26T16:10:32.596148Z"
    }
   },
   "outputs": [],
   "source": [
    "# Bibliotecas Gerais\n",
    "from scipy.stats import norm\n",
    "import matplotlib.pyplot as plt\n",
    "import numpy as np\n",
    "import pandas as pd"
   ]
  },
  {
   "cell_type": "code",
   "execution_count": 133,
   "metadata": {},
   "outputs": [],
   "source": [
    "df = pd.read_excel(r'D:\\Python\\Estudos\\experimentos\\xls\\python.xlsx', \\\n",
    "                   sheet_name='Query1')"
   ]
  },
  {
   "cell_type": "code",
   "execution_count": 134,
   "metadata": {},
   "outputs": [],
   "source": [
    "plant='RECAP'\n",
    "process= 'DST'\n",
    "unit='U500'"
   ]
  },
  {
   "cell_type": "code",
   "execution_count": 135,
   "metadata": {},
   "outputs": [],
   "source": [
    "df=df.loc[(df['Plant']==plant) & (df['Process']==process) & (df['Unit']==unit)] "
   ]
  },
  {
   "cell_type": "code",
   "execution_count": 136,
   "metadata": {},
   "outputs": [
    {
     "data": {
      "text/html": [
       "<div>\n",
       "<style scoped>\n",
       "    .dataframe tbody tr th:only-of-type {\n",
       "        vertical-align: middle;\n",
       "    }\n",
       "\n",
       "    .dataframe tbody tr th {\n",
       "        vertical-align: top;\n",
       "    }\n",
       "\n",
       "    .dataframe thead th {\n",
       "        text-align: right;\n",
       "    }\n",
       "</style>\n",
       "<table border=\"1\" class=\"dataframe\">\n",
       "  <thead>\n",
       "    <tr style=\"text-align: right;\">\n",
       "      <th></th>\n",
       "      <th>Plant</th>\n",
       "      <th>Process</th>\n",
       "      <th>Unit</th>\n",
       "      <th>DataBase</th>\n",
       "      <th>CARGA</th>\n",
       "      <th>IO2</th>\n",
       "      <th>FOMPP</th>\n",
       "      <th>IIE</th>\n",
       "    </tr>\n",
       "  </thead>\n",
       "  <tbody>\n",
       "    <tr>\n",
       "      <td>6679</td>\n",
       "      <td>RECAP</td>\n",
       "      <td>DST</td>\n",
       "      <td>U500</td>\n",
       "      <td>2022-03-08</td>\n",
       "      <td>9300.151200</td>\n",
       "      <td>1.941855</td>\n",
       "      <td>100.0</td>\n",
       "      <td>102.297747</td>\n",
       "    </tr>\n",
       "    <tr>\n",
       "      <td>6680</td>\n",
       "      <td>RECAP</td>\n",
       "      <td>DST</td>\n",
       "      <td>U500</td>\n",
       "      <td>2022-03-09</td>\n",
       "      <td>8928.097470</td>\n",
       "      <td>1.799451</td>\n",
       "      <td>100.0</td>\n",
       "      <td>104.277509</td>\n",
       "    </tr>\n",
       "    <tr>\n",
       "      <td>6681</td>\n",
       "      <td>RECAP</td>\n",
       "      <td>DST</td>\n",
       "      <td>U500</td>\n",
       "      <td>2022-03-10</td>\n",
       "      <td>9233.421215</td>\n",
       "      <td>1.789455</td>\n",
       "      <td>100.0</td>\n",
       "      <td>101.921716</td>\n",
       "    </tr>\n",
       "    <tr>\n",
       "      <td>6682</td>\n",
       "      <td>RECAP</td>\n",
       "      <td>DST</td>\n",
       "      <td>U500</td>\n",
       "      <td>2022-03-11</td>\n",
       "      <td>9300.039044</td>\n",
       "      <td>1.771716</td>\n",
       "      <td>100.0</td>\n",
       "      <td>101.279949</td>\n",
       "    </tr>\n",
       "    <tr>\n",
       "      <td>6683</td>\n",
       "      <td>RECAP</td>\n",
       "      <td>DST</td>\n",
       "      <td>U500</td>\n",
       "      <td>2022-03-12</td>\n",
       "      <td>9299.977312</td>\n",
       "      <td>1.980498</td>\n",
       "      <td>100.0</td>\n",
       "      <td>100.677824</td>\n",
       "    </tr>\n",
       "  </tbody>\n",
       "</table>\n",
       "</div>"
      ],
      "text/plain": [
       "      Plant Process  Unit   DataBase        CARGA       IO2  FOMPP         IIE\n",
       "6679  RECAP     DST  U500 2022-03-08  9300.151200  1.941855  100.0  102.297747\n",
       "6680  RECAP     DST  U500 2022-03-09  8928.097470  1.799451  100.0  104.277509\n",
       "6681  RECAP     DST  U500 2022-03-10  9233.421215  1.789455  100.0  101.921716\n",
       "6682  RECAP     DST  U500 2022-03-11  9300.039044  1.771716  100.0  101.279949\n",
       "6683  RECAP     DST  U500 2022-03-12  9299.977312  1.980498  100.0  100.677824"
      ]
     },
     "execution_count": 136,
     "metadata": {},
     "output_type": "execute_result"
    }
   ],
   "source": [
    "df.head()"
   ]
  },
  {
   "cell_type": "code",
   "execution_count": 137,
   "metadata": {},
   "outputs": [],
   "source": [
    "#carregando o df com dados originais\n",
    "data=df[['DataBase','IIE','CARGA','IO2','FOMPP']]"
   ]
  },
  {
   "cell_type": "markdown",
   "metadata": {},
   "source": [
    "## Vamos analisar como estão os dados no meu Dataset"
   ]
  },
  {
   "cell_type": "code",
   "execution_count": 138,
   "metadata": {},
   "outputs": [
    {
     "data": {
      "text/plain": [
       "(448, 5)"
      ]
     },
     "execution_count": 138,
     "metadata": {},
     "output_type": "execute_result"
    }
   ],
   "source": [
    "# Avaliando o shape do dataset\n",
    "data.shape"
   ]
  },
  {
   "cell_type": "code",
   "execution_count": 139,
   "metadata": {},
   "outputs": [
    {
     "name": "stdout",
     "output_type": "stream",
     "text": [
      "<class 'pandas.core.frame.DataFrame'>\n",
      "Int64Index: 448 entries, 6679 to 62614\n",
      "Data columns (total 5 columns):\n",
      "DataBase    448 non-null datetime64[ns]\n",
      "IIE         205 non-null float64\n",
      "CARGA       448 non-null float64\n",
      "IO2         92 non-null float64\n",
      "FOMPP       188 non-null float64\n",
      "dtypes: datetime64[ns](1), float64(4)\n",
      "memory usage: 21.0 KB\n"
     ]
    }
   ],
   "source": [
    "# avaliando o formato dos dados e já fazendo uma contagem dos nulos\n",
    "data.info()"
   ]
  },
  {
   "cell_type": "code",
   "execution_count": 140,
   "metadata": {},
   "outputs": [
    {
     "data": {
      "text/html": [
       "<div>\n",
       "<style scoped>\n",
       "    .dataframe tbody tr th:only-of-type {\n",
       "        vertical-align: middle;\n",
       "    }\n",
       "\n",
       "    .dataframe tbody tr th {\n",
       "        vertical-align: top;\n",
       "    }\n",
       "\n",
       "    .dataframe thead th {\n",
       "        text-align: right;\n",
       "    }\n",
       "</style>\n",
       "<table border=\"1\" class=\"dataframe\">\n",
       "  <thead>\n",
       "    <tr style=\"text-align: right;\">\n",
       "      <th></th>\n",
       "      <th>IIE</th>\n",
       "      <th>CARGA</th>\n",
       "      <th>IO2</th>\n",
       "      <th>FOMPP</th>\n",
       "    </tr>\n",
       "  </thead>\n",
       "  <tbody>\n",
       "    <tr>\n",
       "      <td>count</td>\n",
       "      <td>205.000000</td>\n",
       "      <td>448.000000</td>\n",
       "      <td>92.000000</td>\n",
       "      <td>188.000000</td>\n",
       "    </tr>\n",
       "    <tr>\n",
       "      <td>mean</td>\n",
       "      <td>102.303181</td>\n",
       "      <td>8662.623448</td>\n",
       "      <td>2.272124</td>\n",
       "      <td>98.476413</td>\n",
       "    </tr>\n",
       "    <tr>\n",
       "      <td>std</td>\n",
       "      <td>38.200792</td>\n",
       "      <td>1083.740873</td>\n",
       "      <td>2.546187</td>\n",
       "      <td>10.095077</td>\n",
       "    </tr>\n",
       "    <tr>\n",
       "      <td>min</td>\n",
       "      <td>47.097091</td>\n",
       "      <td>444.933379</td>\n",
       "      <td>1.456338</td>\n",
       "      <td>2.207719</td>\n",
       "    </tr>\n",
       "    <tr>\n",
       "      <td>25%</td>\n",
       "      <td>82.741207</td>\n",
       "      <td>8050.243019</td>\n",
       "      <td>1.905460</td>\n",
       "      <td>100.000000</td>\n",
       "    </tr>\n",
       "    <tr>\n",
       "      <td>50%</td>\n",
       "      <td>102.561345</td>\n",
       "      <td>9019.834708</td>\n",
       "      <td>1.991822</td>\n",
       "      <td>100.000000</td>\n",
       "    </tr>\n",
       "    <tr>\n",
       "      <td>75%</td>\n",
       "      <td>104.847713</td>\n",
       "      <td>9439.881168</td>\n",
       "      <td>2.023723</td>\n",
       "      <td>100.000000</td>\n",
       "    </tr>\n",
       "    <tr>\n",
       "      <td>max</td>\n",
       "      <td>250.520974</td>\n",
       "      <td>9980.894581</td>\n",
       "      <td>26.306578</td>\n",
       "      <td>100.000000</td>\n",
       "    </tr>\n",
       "  </tbody>\n",
       "</table>\n",
       "</div>"
      ],
      "text/plain": [
       "              IIE        CARGA        IO2       FOMPP\n",
       "count  205.000000   448.000000  92.000000  188.000000\n",
       "mean   102.303181  8662.623448   2.272124   98.476413\n",
       "std     38.200792  1083.740873   2.546187   10.095077\n",
       "min     47.097091   444.933379   1.456338    2.207719\n",
       "25%     82.741207  8050.243019   1.905460  100.000000\n",
       "50%    102.561345  9019.834708   1.991822  100.000000\n",
       "75%    104.847713  9439.881168   2.023723  100.000000\n",
       "max    250.520974  9980.894581  26.306578  100.000000"
      ]
     },
     "execution_count": 140,
     "metadata": {},
     "output_type": "execute_result"
    }
   ],
   "source": [
    "# Avaliando dados gerais do df\n",
    "data.describe()"
   ]
  },
  {
   "cell_type": "markdown",
   "metadata": {},
   "source": [
    "* dá pra perceber nas contagens o numero de dados faltantes"
   ]
  },
  {
   "cell_type": "code",
   "execution_count": 141,
   "metadata": {},
   "outputs": [
    {
     "data": {
      "text/html": [
       "<div>\n",
       "<style scoped>\n",
       "    .dataframe tbody tr th:only-of-type {\n",
       "        vertical-align: middle;\n",
       "    }\n",
       "\n",
       "    .dataframe tbody tr th {\n",
       "        vertical-align: top;\n",
       "    }\n",
       "\n",
       "    .dataframe thead th {\n",
       "        text-align: right;\n",
       "    }\n",
       "</style>\n",
       "<table border=\"1\" class=\"dataframe\">\n",
       "  <thead>\n",
       "    <tr style=\"text-align: right;\">\n",
       "      <th></th>\n",
       "      <th>DataBase</th>\n",
       "      <th>IIE</th>\n",
       "      <th>CARGA</th>\n",
       "      <th>IO2</th>\n",
       "      <th>FOMPP</th>\n",
       "    </tr>\n",
       "  </thead>\n",
       "  <tbody>\n",
       "    <tr>\n",
       "      <td>6679</td>\n",
       "      <td>False</td>\n",
       "      <td>False</td>\n",
       "      <td>False</td>\n",
       "      <td>False</td>\n",
       "      <td>False</td>\n",
       "    </tr>\n",
       "    <tr>\n",
       "      <td>6680</td>\n",
       "      <td>False</td>\n",
       "      <td>False</td>\n",
       "      <td>False</td>\n",
       "      <td>False</td>\n",
       "      <td>False</td>\n",
       "    </tr>\n",
       "    <tr>\n",
       "      <td>6681</td>\n",
       "      <td>False</td>\n",
       "      <td>False</td>\n",
       "      <td>False</td>\n",
       "      <td>False</td>\n",
       "      <td>False</td>\n",
       "    </tr>\n",
       "    <tr>\n",
       "      <td>6682</td>\n",
       "      <td>False</td>\n",
       "      <td>False</td>\n",
       "      <td>False</td>\n",
       "      <td>False</td>\n",
       "      <td>False</td>\n",
       "    </tr>\n",
       "    <tr>\n",
       "      <td>6683</td>\n",
       "      <td>False</td>\n",
       "      <td>False</td>\n",
       "      <td>False</td>\n",
       "      <td>False</td>\n",
       "      <td>False</td>\n",
       "    </tr>\n",
       "    <tr>\n",
       "      <td>...</td>\n",
       "      <td>...</td>\n",
       "      <td>...</td>\n",
       "      <td>...</td>\n",
       "      <td>...</td>\n",
       "      <td>...</td>\n",
       "    </tr>\n",
       "    <tr>\n",
       "      <td>55607</td>\n",
       "      <td>False</td>\n",
       "      <td>False</td>\n",
       "      <td>False</td>\n",
       "      <td>True</td>\n",
       "      <td>True</td>\n",
       "    </tr>\n",
       "    <tr>\n",
       "      <td>60587</td>\n",
       "      <td>False</td>\n",
       "      <td>True</td>\n",
       "      <td>False</td>\n",
       "      <td>True</td>\n",
       "      <td>True</td>\n",
       "    </tr>\n",
       "    <tr>\n",
       "      <td>62050</td>\n",
       "      <td>False</td>\n",
       "      <td>False</td>\n",
       "      <td>False</td>\n",
       "      <td>True</td>\n",
       "      <td>False</td>\n",
       "    </tr>\n",
       "    <tr>\n",
       "      <td>62491</td>\n",
       "      <td>False</td>\n",
       "      <td>True</td>\n",
       "      <td>False</td>\n",
       "      <td>True</td>\n",
       "      <td>True</td>\n",
       "    </tr>\n",
       "    <tr>\n",
       "      <td>62614</td>\n",
       "      <td>False</td>\n",
       "      <td>True</td>\n",
       "      <td>False</td>\n",
       "      <td>True</td>\n",
       "      <td>True</td>\n",
       "    </tr>\n",
       "  </tbody>\n",
       "</table>\n",
       "<p>448 rows × 5 columns</p>\n",
       "</div>"
      ],
      "text/plain": [
       "       DataBase    IIE  CARGA    IO2  FOMPP\n",
       "6679      False  False  False  False  False\n",
       "6680      False  False  False  False  False\n",
       "6681      False  False  False  False  False\n",
       "6682      False  False  False  False  False\n",
       "6683      False  False  False  False  False\n",
       "...         ...    ...    ...    ...    ...\n",
       "55607     False  False  False   True   True\n",
       "60587     False   True  False   True   True\n",
       "62050     False  False  False   True  False\n",
       "62491     False   True  False   True   True\n",
       "62614     False   True  False   True   True\n",
       "\n",
       "[448 rows x 5 columns]"
      ]
     },
     "execution_count": 141,
     "metadata": {},
     "output_type": "execute_result"
    }
   ],
   "source": [
    "# Analisando dados nulos\n",
    "data.isnull()"
   ]
  },
  {
   "cell_type": "code",
   "execution_count": 142,
   "metadata": {},
   "outputs": [
    {
     "data": {
      "text/html": [
       "<div>\n",
       "<style scoped>\n",
       "    .dataframe tbody tr th:only-of-type {\n",
       "        vertical-align: middle;\n",
       "    }\n",
       "\n",
       "    .dataframe tbody tr th {\n",
       "        vertical-align: top;\n",
       "    }\n",
       "\n",
       "    .dataframe thead th {\n",
       "        text-align: right;\n",
       "    }\n",
       "</style>\n",
       "<table border=\"1\" class=\"dataframe\">\n",
       "  <thead>\n",
       "    <tr style=\"text-align: right;\">\n",
       "      <th></th>\n",
       "      <th>DataBase</th>\n",
       "      <th>IIE</th>\n",
       "      <th>CARGA</th>\n",
       "      <th>IO2</th>\n",
       "      <th>FOMPP</th>\n",
       "    </tr>\n",
       "  </thead>\n",
       "  <tbody>\n",
       "    <tr>\n",
       "      <td>6679</td>\n",
       "      <td>False</td>\n",
       "      <td>False</td>\n",
       "      <td>False</td>\n",
       "      <td>False</td>\n",
       "      <td>False</td>\n",
       "    </tr>\n",
       "    <tr>\n",
       "      <td>6680</td>\n",
       "      <td>False</td>\n",
       "      <td>False</td>\n",
       "      <td>False</td>\n",
       "      <td>False</td>\n",
       "      <td>False</td>\n",
       "    </tr>\n",
       "    <tr>\n",
       "      <td>6681</td>\n",
       "      <td>False</td>\n",
       "      <td>False</td>\n",
       "      <td>False</td>\n",
       "      <td>False</td>\n",
       "      <td>False</td>\n",
       "    </tr>\n",
       "    <tr>\n",
       "      <td>6682</td>\n",
       "      <td>False</td>\n",
       "      <td>False</td>\n",
       "      <td>False</td>\n",
       "      <td>False</td>\n",
       "      <td>False</td>\n",
       "    </tr>\n",
       "    <tr>\n",
       "      <td>6683</td>\n",
       "      <td>False</td>\n",
       "      <td>False</td>\n",
       "      <td>False</td>\n",
       "      <td>False</td>\n",
       "      <td>False</td>\n",
       "    </tr>\n",
       "    <tr>\n",
       "      <td>...</td>\n",
       "      <td>...</td>\n",
       "      <td>...</td>\n",
       "      <td>...</td>\n",
       "      <td>...</td>\n",
       "      <td>...</td>\n",
       "    </tr>\n",
       "    <tr>\n",
       "      <td>55607</td>\n",
       "      <td>False</td>\n",
       "      <td>False</td>\n",
       "      <td>False</td>\n",
       "      <td>True</td>\n",
       "      <td>True</td>\n",
       "    </tr>\n",
       "    <tr>\n",
       "      <td>60587</td>\n",
       "      <td>False</td>\n",
       "      <td>True</td>\n",
       "      <td>False</td>\n",
       "      <td>True</td>\n",
       "      <td>True</td>\n",
       "    </tr>\n",
       "    <tr>\n",
       "      <td>62050</td>\n",
       "      <td>False</td>\n",
       "      <td>False</td>\n",
       "      <td>False</td>\n",
       "      <td>True</td>\n",
       "      <td>False</td>\n",
       "    </tr>\n",
       "    <tr>\n",
       "      <td>62491</td>\n",
       "      <td>False</td>\n",
       "      <td>True</td>\n",
       "      <td>False</td>\n",
       "      <td>True</td>\n",
       "      <td>True</td>\n",
       "    </tr>\n",
       "    <tr>\n",
       "      <td>62614</td>\n",
       "      <td>False</td>\n",
       "      <td>True</td>\n",
       "      <td>False</td>\n",
       "      <td>True</td>\n",
       "      <td>True</td>\n",
       "    </tr>\n",
       "  </tbody>\n",
       "</table>\n",
       "<p>448 rows × 5 columns</p>\n",
       "</div>"
      ],
      "text/plain": [
       "       DataBase    IIE  CARGA    IO2  FOMPP\n",
       "6679      False  False  False  False  False\n",
       "6680      False  False  False  False  False\n",
       "6681      False  False  False  False  False\n",
       "6682      False  False  False  False  False\n",
       "6683      False  False  False  False  False\n",
       "...         ...    ...    ...    ...    ...\n",
       "55607     False  False  False   True   True\n",
       "60587     False   True  False   True   True\n",
       "62050     False  False  False   True  False\n",
       "62491     False   True  False   True   True\n",
       "62614     False   True  False   True   True\n",
       "\n",
       "[448 rows x 5 columns]"
      ]
     },
     "execution_count": 142,
     "metadata": {},
     "output_type": "execute_result"
    }
   ],
   "source": [
    "# Avaliando dados NAN\n",
    "data.isna()"
   ]
  },
  {
   "cell_type": "code",
   "execution_count": 143,
   "metadata": {},
   "outputs": [
    {
     "data": {
      "text/plain": [
       "DataBase    False\n",
       "IIE          True\n",
       "CARGA       False\n",
       "IO2          True\n",
       "FOMPP        True\n",
       "dtype: bool"
      ]
     },
     "execution_count": 143,
     "metadata": {},
     "output_type": "execute_result"
    }
   ],
   "source": [
    "# Checando qual coluna tem dados faltantes\n",
    "data.isna().any()"
   ]
  },
  {
   "cell_type": "code",
   "execution_count": 144,
   "metadata": {},
   "outputs": [
    {
     "data": {
      "text/plain": [
       "DataBase      0\n",
       "IIE         243\n",
       "CARGA         0\n",
       "IO2         356\n",
       "FOMPP       260\n",
       "dtype: int64"
      ]
     },
     "execution_count": 144,
     "metadata": {},
     "output_type": "execute_result"
    }
   ],
   "source": [
    "# Somando o numero de registors que tem nullo\n",
    "data.isna().sum()"
   ]
  },
  {
   "cell_type": "markdown",
   "metadata": {},
   "source": [
    "## Preenchendo os valores faltantes com a média das colunas (df.mean)\n",
    "Para este meu caso decidi pegar todos as colunas e substituir o valor NAN pela média da coluna. Usei para isso o método pandas mean().\n"
   ]
  },
  {
   "cell_type": "code",
   "execution_count": 145,
   "metadata": {},
   "outputs": [],
   "source": [
    "#carregando o df com dados originais\n",
    "data=df[['DataBase','IIE','CARGA','IO2','FOMPP']]"
   ]
  },
  {
   "cell_type": "code",
   "execution_count": 146,
   "metadata": {},
   "outputs": [
    {
     "data": {
      "text/plain": [
       "IIE       102.303181\n",
       "CARGA    8662.623448\n",
       "IO2         2.272124\n",
       "FOMPP      98.476413\n",
       "dtype: float64"
      ]
     },
     "execution_count": 146,
     "metadata": {},
     "output_type": "execute_result"
    }
   ],
   "source": [
    "data.mean() # aqui é mostrada a média de cada coluna o que em minha análise inicial está adequado para substituir pelo NAN"
   ]
  },
  {
   "cell_type": "code",
   "execution_count": 147,
   "metadata": {},
   "outputs": [],
   "source": [
    "#carrego do df com a mean\n",
    "data=data.fillna(data.mean())"
   ]
  },
  {
   "cell_type": "code",
   "execution_count": 148,
   "metadata": {},
   "outputs": [
    {
     "data": {
      "text/plain": [
       "DataBase    False\n",
       "IIE         False\n",
       "CARGA       False\n",
       "IO2         False\n",
       "FOMPP       False\n",
       "dtype: bool"
      ]
     },
     "execution_count": 148,
     "metadata": {},
     "output_type": "execute_result"
    }
   ],
   "source": [
    "# contabdo os NAN do df\n",
    "data.isna().any()"
   ]
  },
  {
   "cell_type": "code",
   "execution_count": 149,
   "metadata": {},
   "outputs": [
    {
     "data": {
      "text/plain": [
       "DataBase    0\n",
       "IIE         0\n",
       "CARGA       0\n",
       "IO2         0\n",
       "FOMPP       0\n",
       "dtype: int64"
      ]
     },
     "execution_count": 149,
     "metadata": {},
     "output_type": "execute_result"
    }
   ],
   "source": [
    "data.isna().sum()"
   ]
  },
  {
   "cell_type": "code",
   "execution_count": 150,
   "metadata": {},
   "outputs": [
    {
     "data": {
      "text/plain": [
       "(448, 5)"
      ]
     },
     "execution_count": 150,
     "metadata": {},
     "output_type": "execute_result"
    }
   ],
   "source": [
    "data.shape"
   ]
  },
  {
   "cell_type": "code",
   "execution_count": 152,
   "metadata": {},
   "outputs": [],
   "source": [
    "#exportando para arquivo tratado\n",
    "data.to_csv(r'D:\\Python\\Estudos\\experimentos\\csv\\dataset_{}_{}_{}.csv' .format(plant,process,unit))"
   ]
  },
  {
   "cell_type": "markdown",
   "metadata": {},
   "source": [
    "## Outras formas de realizar o processo\n",
    "- Substituir uma coluna em específico com a Méida"
   ]
  },
  {
   "cell_type": "raw",
   "metadata": {},
   "source": [
    "# Transformadno em um array numpy e tirando a média\n",
    "avg_IIE=data['IIE'].values.mean()"
   ]
  },
  {
   "cell_type": "raw",
   "metadata": {},
   "source": [
    "avg_IIE"
   ]
  },
  {
   "cell_type": "raw",
   "metadata": {},
   "source": [
    "# Transformadno em um array numpy e tirando a média e colocando nas celulas com NAN\n",
    "data=data.fillna(value = {'IIE':data['IIE'].values.mean()})"
   ]
  },
  {
   "cell_type": "markdown",
   "metadata": {},
   "source": [
    "## Deletando os NAN baseado na coluna"
   ]
  },
  {
   "cell_type": "raw",
   "metadata": {},
   "source": [
    "data = data[data['IIE'].notna()]"
   ]
  },
  {
   "cell_type": "markdown",
   "metadata": {},
   "source": [
    "* Sobre dropna\n",
    "\n",
    "|Instrucao|Comentario|\n",
    "|---------|----------|\n",
    "|df.dropna()|              #drop all rows that have any NaN values|\n",
    "|df.dropna(how='all')|     #drop only if ALL columns are NaN|\n",
    "|df.dropna(thresh=2)|      #Drop row if it does not have at least two values that are **not** NaN|\n",
    "|df.dropna(subset=[1])|    #Drop only if NaN in specific column (as asked in the question)|"
   ]
  },
  {
   "cell_type": "code",
   "execution_count": null,
   "metadata": {},
   "outputs": [],
   "source": []
  }
 ],
 "metadata": {
  "kernelspec": {
   "display_name": "Python 3",
   "language": "python",
   "name": "python3"
  },
  "language_info": {
   "codemirror_mode": {
    "name": "ipython",
    "version": 3
   },
   "file_extension": ".py",
   "mimetype": "text/x-python",
   "name": "python",
   "nbconvert_exporter": "python",
   "pygments_lexer": "ipython3",
   "version": "3.7.4"
  },
  "toc": {
   "base_numbering": 1,
   "nav_menu": {},
   "number_sections": true,
   "sideBar": true,
   "skip_h1_title": false,
   "title_cell": "Table of Contents",
   "title_sidebar": "Contents",
   "toc_cell": false,
   "toc_position": {},
   "toc_section_display": true,
   "toc_window_display": false
  },
  "varInspector": {
   "cols": {
    "lenName": 16,
    "lenType": 16,
    "lenVar": 40
   },
   "kernels_config": {
    "python": {
     "delete_cmd_postfix": "",
     "delete_cmd_prefix": "del ",
     "library": "var_list.py",
     "varRefreshCmd": "print(var_dic_list())"
    },
    "r": {
     "delete_cmd_postfix": ") ",
     "delete_cmd_prefix": "rm(",
     "library": "var_list.r",
     "varRefreshCmd": "cat(var_dic_list()) "
    }
   },
   "types_to_exclude": [
    "module",
    "function",
    "builtin_function_or_method",
    "instance",
    "_Feature"
   ],
   "window_display": false
  }
 },
 "nbformat": 4,
 "nbformat_minor": 4
}
